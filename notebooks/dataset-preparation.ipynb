{
 "cells": [
  {
   "cell_type": "markdown",
   "metadata": {},
   "source": [
    "# Fiftyone Dataset Preparation\n",
    "---\n",
    "\n"
   ]
  },
  {
   "cell_type": "markdown",
   "metadata": {},
   "source": [
    "# Dataset\n",
    "\n",
    "The training process will use Cityscapes dataset from [Cityscape](www.cityscapes-dataset.com). CamVid is an optional dataset for training but for this one I will use Cityscapes.\n",
    "\n",
    "![city-scape-sample](https://www.cityscapes-dataset.com/wordpress/wp-content/uploads/2015/07/zuerich00.png)"
   ]
  },
  {
   "cell_type": "markdown",
   "metadata": {},
   "source": [
    "## Download\n",
    "\n",
    "Plase follow the instruction to [download](https://www.cityscapes-dataset.com/login/) the dataset.\n",
    "\n",
    "Since we're using Fiftyone, it requires the following sets:\n",
    "- leftImg8bit_trainvaltest.zip\n",
    "- gtFine_trainvaltest.zip (optional)\n",
    "- gtCoarse.zip (optional)\n",
    "- gtBbox_cityPersons_trainval.zip (optional)\n",
    "\n",
    "Put it in a folder `datasets/cityscapes/raw/`\n",
    "```\n",
    "datasets/\n",
    "  - cityscapes\n",
    "    - raw/\n",
    "      - leftImg8bit_trainvaltest.zip\n",
    "      - gtFine_trainvaltest.zip\n",
    "    - cityscape_fo_image-segmentation/\n",
    "    - cityscape_fo_coco-detection/\n",
    "```"
   ]
  },
  {
   "cell_type": "code",
   "execution_count": null,
   "metadata": {},
   "outputs": [],
   "source": [
    "# Run the following command to create directories\n",
    "!mkdir -p data/datasets/cityscapes/raw/\n",
    "\n",
    "DATASET_DIR = \"data/datasets/cityscapes/\"\n",
    "FO_SEGMENTATION_DIR = \"data/datasets/cityscapes/cityscape_fo_image-segmentation\"\n",
    "FO_COCO_DIR = \"data/content/datasets/cityscapes/cityscape_fo_coco-detection\""
   ]
  },
  {
   "cell_type": "code",
   "execution_count": null,
   "metadata": {},
   "outputs": [],
   "source": [
    "!wget --keep-session-cookies --save-cookies=cookies.txt --post-data 'username=username&password=password&submit=Login' https://www.cityscapes-dataset.com/login/\n",
    "\n",
    "# leftImg8bit_trainvaltest.zip\n",
    "!wget --load-cookies cookies.txt --content-disposition https://www.cityscapes-dataset.com/file-handling/?packageID=3 -P data/datasets/cityscapes/raw/\n",
    "\n",
    "# gtFine_trainvaltest.zip\n",
    "!wget --load-cookies cookies.txt --content-disposition https://www.cityscapes-dataset.com/file-handling/?packageID=1 -P data/datasets/cityscapes/raw/"
   ]
  },
  {
   "cell_type": "markdown",
   "metadata": {},
   "source": [
    "## Fiftyone Preparation\n",
    "\n",
    "\n",
    "---\n",
    "\n",
    "We'll use [Fiftyone](https://voxel51.com/fiftyone/) to generate different dataset format. S"
   ]
  },
  {
   "cell_type": "code",
   "execution_count": null,
   "metadata": {},
   "outputs": [],
   "source": [
    "# install fiftyone\n",
    "!pip install fiftyone --no-cache-dir\n",
    "!pip install --upgrade opencv-python opencv-python-headless --no-cache-dir"
   ]
  },
  {
   "cell_type": "markdown",
   "metadata": {},
   "source": [
    "### Generate dataset for training and validation\n",
    "\n",
    "The following script will generate fiftyone's ImageSegmentationDirectory and COCODetectionDataset. Please read the full [documentation](https://voxel51.com/docs/fiftyone/user_guide/export_datasets.html)"
   ]
  },
  {
   "cell_type": "code",
   "execution_count": null,
   "metadata": {},
   "outputs": [],
   "source": [
    "import os\n",
    "import fiftyone as fo\n",
    "from fiftyone import ViewField as F\n",
    "import fiftyone.zoo as foz\n",
    "\n",
    "classes = [\"road\", \"sidewalk\", \"building\", \"wall\", \"fence\", \"pole\", \"traffic_light\", \"traffic_sign\",\n",
    "           \"vegetation\", \"terrain\", \"sky\", \"person\", \"rider\", \"car\", \"truck\", \"bus\", \"train\", \"motorcycle\", \"bicycle\"]\n",
    "class_map = dict(zip(range(19), classes))\n",
    "\n",
    "\n",
    "for split in [\"train\", \"validation\", \"test\"]:\n",
    "    dataset = foz.load_zoo_dataset(\n",
    "        \"cityscapes\",\n",
    "        split=split,\n",
    "        source_dir=os.path.join(DATASET_DIR, \"raw\"),\n",
    "        dataset_dir=os.path.join(DATASET_DIR, \"fiftyone_cityscape\"),\n",
    "    )\n",
    "\n",
    "    match = F(\"label\").is_in(classes)\n",
    "    if split != \"test\":\n",
    "        matching_view = dataset.match(\n",
    "            F(\"gt_fine.polylines\").filter(match).length() > 0\n",
    "        )\n",
    "    else:\n",
    "        matching_view = dataset\n",
    "\n",
    "    # Generate ImageSegmentationDirectory format\n",
    "    matching_view.export(\n",
    "        dataset_type=fo.types.ImageSegmentationDirectory,\n",
    "        export_dir=FO_SEGMENTATION_DIR,\n",
    "        data_path=f\"data_{split}/\",\n",
    "        labels_path=f\"labels_{split}/\",\n",
    "        label_field=\"gt_fine\",\n",
    "        export_media=\"symlink\",\n",
    "        mask_targets=class_map)\n",
    "\n",
    "    # Generate COCODetectionDataset format\n",
    "    matching_view.export(\n",
    "        export_dir=FO_COCO_DIR,\n",
    "        dataset_type=fo.types.COCODetectionDataset,\n",
    "        labels_path=f\"labels/{split}.json\",\n",
    "        label_field=\"gt_fine\",\n",
    "        export_media=\"symlink\",\n",
    "        classes=classes,\n",
    "    )\n"
   ]
  },
  {
   "cell_type": "markdown",
   "metadata": {},
   "source": [
    "### Preview dataset"
   ]
  },
  {
   "cell_type": "code",
   "execution_count": null,
   "metadata": {},
   "outputs": [],
   "source": [
    "session = fo.launch_app(dataset)\n",
    "session.view = dataset.take(100)"
   ]
  }
 ],
 "metadata": {
  "accelerator": "GPU",
  "colab": {
   "authorship_tag": "ABX9TyOBd9GxMDpV0EDPRnYxigIm",
   "collapsed_sections": [],
   "name": "Pytorch - DMA-Net.ipynb",
   "provenance": []
  },
  "kernelspec": {
   "display_name": "Python 3",
   "name": "python3"
  },
  "language_info": {
   "name": "python"
  }
 },
 "nbformat": 4,
 "nbformat_minor": 0
}
